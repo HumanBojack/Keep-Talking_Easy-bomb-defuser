{
 "cells": [
  {
   "cell_type": "markdown",
   "metadata": {},
   "source": [
    "# Imports"
   ]
  },
  {
   "cell_type": "code",
   "execution_count": 10,
   "metadata": {},
   "outputs": [],
   "source": [
    "import numpy as np"
   ]
  },
  {
   "cell_type": "markdown",
   "metadata": {},
   "source": [
    "# Bomb info\n",
    "In this :\n",
    "The player must type some informations about the bomb, like the code or number of batteries.\n",
    "\n",
    "In the app :\n",
    "The player will have an easy interface to enter the bomb info. (ex: clicking on the indicators present in the bomb)"
   ]
  },
  {
   "cell_type": "code",
   "execution_count": 11,
   "metadata": {},
   "outputs": [],
   "source": [
    "serial = \"K72RI5\" # This is an exemple\n",
    "batteries = 2 # Number or dict like: {\"AA\": 0, \"D\": 0}\n",
    "errors = 0\n",
    "indicators = {\"CAR\": 0, \"CLR\": 1} # {label: led}\n",
    "parallel_port = False"
   ]
  },
  {
   "cell_type": "markdown",
   "metadata": {},
   "source": [
    "# Modules"
   ]
  },
  {
   "cell_type": "markdown",
   "metadata": {},
   "source": [
    "## Fils\n",
    "In this :\n",
    "Type each of the colors and the program will give the number of the cable to cut.\n",
    "\n",
    "In the app :\n",
    "There will be buttons with color names and a reset one. The player will click (in order) on all the wires and the program will give back which cable to cut (number and / or a graphical view)."
   ]
  },
  {
   "cell_type": "code",
   "execution_count": 37,
   "metadata": {},
   "outputs": [],
   "source": [
    "# Bleu Rouge Jaune Noir Blanc (brjnw)\n",
    "wires = list(input())"
   ]
  },
  {
   "cell_type": "code",
   "execution_count": 4,
   "metadata": {},
   "outputs": [],
   "source": [
    "def three(wires):\n",
    "  if \"r\" not in wires:\n",
    "    return 2\n",
    "  elif wires.count(\"b\") > 1:\n",
    "    return max([index for (index, item) in enumerate(wires) if item == \"b\"]) + 1\n",
    "  else:\n",
    "    return 3"
   ]
  },
  {
   "cell_type": "code",
   "execution_count": 5,
   "metadata": {},
   "outputs": [],
   "source": [
    "def four(wires):\n",
    "  if ((wires.count(\"r\") > 1) & (int(serial[-1]) % 2 != 0)):\n",
    "    return max([index for (index, item) in enumerate(wires) if item == \"r\"]) + 1\n",
    "  elif ((wires.count(\"r\") == 0) & (wires[-1] == \"j\")) | (wires.count(\"b\") == 1):\n",
    "    return 1\n",
    "  elif wires.count(\"j\") > 1:\n",
    "    return 4\n",
    "  else:\n",
    "    return 2"
   ]
  },
  {
   "cell_type": "code",
   "execution_count": 6,
   "metadata": {},
   "outputs": [],
   "source": [
    "def five(wires):\n",
    "  if (wires[-1] == \"n\") & (int(serial[-1]) % 2 != 0):\n",
    "    return 4\n",
    "  elif (wires.count(\"r\") == 1) & (wires.count(\"j\") > 1):\n",
    "    return 1\n",
    "  elif wires.count(\"n\") == 0:\n",
    "    return 2\n",
    "  else:\n",
    "    return 1"
   ]
  },
  {
   "cell_type": "code",
   "execution_count": 7,
   "metadata": {},
   "outputs": [],
   "source": [
    "def six(wires):\n",
    "  if (wires.count(\"j\") == 0) & (int(serial[-1]) % 2 != 0):\n",
    "    return 3\n",
    "  elif (wires.count(\"j\") == 1) & (wires.count(\"w\") > 1):\n",
    "    return 4\n",
    "  elif wires.count(\"r\") == 0:\n",
    "    return 6\n",
    "  else:\n",
    "    return 4"
   ]
  },
  {
   "cell_type": "code",
   "execution_count": 8,
   "metadata": {},
   "outputs": [],
   "source": [
    "def solve_wire(wires):\n",
    "  # execute the appropriate function given the number of wires\n",
    "  return {3: three, 4: four, 5: five, 6: six}[len(wires)](wires)"
   ]
  },
  {
   "cell_type": "code",
   "execution_count": 38,
   "metadata": {},
   "outputs": [
    {
     "data": {
      "text/plain": [
       "1"
      ]
     },
     "execution_count": 38,
     "metadata": {},
     "output_type": "execute_result"
    }
   ],
   "source": [
    "solve_wire(wires)"
   ]
  },
  {
   "cell_type": "markdown",
   "metadata": {},
   "source": [
    "## Bouton\n",
    "Using informations like the **number of batteries**, the **indicators turned on**, the button **color** and **label**, the function will give back the instructions on how to beat the module."
   ]
  },
  {
   "cell_type": "code",
   "execution_count": 35,
   "metadata": {},
   "outputs": [],
   "source": [
    "# Annuler Exploser Maintenir Appuyer\n",
    "batteries = 0\n",
    "button = {\"color\": \"blanc\", \"label\": \"annuler\"}\n",
    "handle_hold = \"Bleu : relâcher sur un 4, Jaune : sur un 5, Autre : sur un 1\"\n",
    "# 0 => press | 1 => press and hold\n",
    "def solve_button(button):\n",
    "  if ((button.get(\"color\") == \"blue\") & (button.get(\"label\") == \"annuler\")):\n",
    "    return 1\n",
    "\n",
    "  if (button.get(\"label\") == \"exploser\"):\n",
    "    # if (batteries > 1):\n",
    "    #   return 0\n",
    "    return int(batteries < 2)\n",
    "\n",
    "    # 0 => 1\n",
    "    # 1 => 1\n",
    "    # 2 => 0\n",
    "    # 3 => 0\n",
    "\n",
    "  if ((button.get(\"color\") == \"white\") & (indicators.get(\"CAR\") == 1)):\n",
    "    return 1\n",
    "\n",
    "  if (\n",
    "    ((batteries > 2) & (indicators.get(\"FRK\") == 1)) \n",
    "  | \n",
    "    ((button.get(\"color\") == \"rouge\") & (button.get(\"label\") == \"maintenir\"))\n",
    "    ):\n",
    "    return 0\n",
    "\n",
    "  return 1"
   ]
  },
  {
   "cell_type": "code",
   "execution_count": 36,
   "metadata": {},
   "outputs": [
    {
     "name": "stdout",
     "output_type": "stream",
     "text": [
      "1\n"
     ]
    }
   ],
   "source": [
    "print(solve_button(button))"
   ]
  },
  {
   "cell_type": "markdown",
   "metadata": {},
   "source": [
    "## Clavier\n",
    "User will have the list of all different keys that exist and he will press the four keys icons. Then, he will get the four keys in the order he has to press them.\n",
    "![](https://i.imgur.com/iVV3Vj5.png)"
   ]
  },
  {
   "cell_type": "code",
   "execution_count": 19,
   "metadata": {},
   "outputs": [],
   "source": [
    "# first_row = [1, 2, 3, 4, 5, 6, 7]\n",
    "# second_row = [8, 1, 7, 9, 10, 6, 11]\n",
    "# third_row = [12, 13, 9, 14, 15, 3, 10]\n",
    "# fourth_row = [16, 17, 18, 5, 14, 11, 19]\n",
    "# fifth_row = [20, 19, 18, 21, 17, 22, 23]\n",
    "# sixth_row = [16, 8, 24, 25, 20, 26, 27]\n",
    "rows = [[1, 2, 3, 4, 5, 6, 7], [8, 1, 7, 9, 10, 6, 11], [12, 13, 9, 14, 15, 3, 10], [16, 17, 18, 5, 14, 11, 19], [20, 19, 18, 21, 17, 22, 23], [16, 8, 24, 25, 20, 26, 27]]"
   ]
  },
  {
   "cell_type": "code",
   "execution_count": 34,
   "metadata": {},
   "outputs": [
    {
     "data": {
      "text/plain": [
       "[]"
      ]
     },
     "execution_count": 34,
     "metadata": {},
     "output_type": "execute_result"
    }
   ],
   "source": [
    "keys = [4, 5, 12]\n",
    "[row for row in rows if all(key in row for key in keys)]"
   ]
  },
  {
   "cell_type": "code",
   "execution_count": 42,
   "metadata": {},
   "outputs": [],
   "source": [
    "def solve_keyboard(keys):\n",
    "  filtered_rows = [row for row in rows if all(key in row for key in keys)]\n",
    "  if len(filtered_rows) != 1:\n",
    "    return False\n",
    "\n",
    "  return [key for key in filtered_rows[0] if key in keys]"
   ]
  },
  {
   "cell_type": "code",
   "execution_count": 44,
   "metadata": {},
   "outputs": [
    {
     "data": {
      "text/plain": [
       "[1, 9, 10, 6]"
      ]
     },
     "execution_count": 44,
     "metadata": {},
     "output_type": "execute_result"
    }
   ],
   "source": [
    "solve_keyboard([6, 9, 10, 1])"
   ]
  },
  {
   "cell_type": "markdown",
   "metadata": {},
   "source": [
    "## Simon"
   ]
  },
  {
   "cell_type": "code",
   "execution_count": null,
   "metadata": {},
   "outputs": [],
   "source": []
  },
  {
   "cell_type": "markdown",
   "metadata": {},
   "source": [
    "## Jeux de mots"
   ]
  },
  {
   "cell_type": "code",
   "execution_count": null,
   "metadata": {},
   "outputs": [],
   "source": []
  },
  {
   "cell_type": "markdown",
   "metadata": {},
   "source": [
    "## Memory"
   ]
  },
  {
   "cell_type": "code",
   "execution_count": null,
   "metadata": {},
   "outputs": [],
   "source": []
  },
  {
   "cell_type": "markdown",
   "metadata": {},
   "source": [
    "## Code Morse"
   ]
  },
  {
   "cell_type": "code",
   "execution_count": null,
   "metadata": {},
   "outputs": [],
   "source": []
  },
  {
   "cell_type": "markdown",
   "metadata": {},
   "source": [
    "## Fils compliqués"
   ]
  },
  {
   "cell_type": "code",
   "execution_count": null,
   "metadata": {},
   "outputs": [],
   "source": []
  },
  {
   "cell_type": "markdown",
   "metadata": {},
   "source": [
    "## Séquences de fils"
   ]
  },
  {
   "cell_type": "code",
   "execution_count": null,
   "metadata": {},
   "outputs": [],
   "source": []
  },
  {
   "cell_type": "markdown",
   "metadata": {},
   "source": [
    "## Labyrinthe"
   ]
  },
  {
   "cell_type": "code",
   "execution_count": null,
   "metadata": {},
   "outputs": [],
   "source": []
  },
  {
   "cell_type": "markdown",
   "metadata": {},
   "source": [
    "## Mot de passe\n",
    "=> Regarder la recherche notaciné"
   ]
  },
  {
   "cell_type": "code",
   "execution_count": null,
   "metadata": {},
   "outputs": [],
   "source": []
  },
  {
   "cell_type": "markdown",
   "metadata": {},
   "source": [
    "## Molette"
   ]
  },
  {
   "cell_type": "code",
   "execution_count": null,
   "metadata": {},
   "outputs": [],
   "source": []
  }
 ],
 "metadata": {
  "interpreter": {
   "hash": "b4f38127354bbbf11134e8c14cc17daac7b35e8faaf836cc12d7980bb5480b10"
  },
  "kernelspec": {
   "display_name": "Python 3.10.0 ('datascience')",
   "language": "python",
   "name": "python3"
  },
  "language_info": {
   "codemirror_mode": {
    "name": "ipython",
    "version": 3
   },
   "file_extension": ".py",
   "mimetype": "text/x-python",
   "name": "python",
   "nbconvert_exporter": "python",
   "pygments_lexer": "ipython3",
   "version": "3.10.4"
  },
  "orig_nbformat": 4
 },
 "nbformat": 4,
 "nbformat_minor": 2
}
